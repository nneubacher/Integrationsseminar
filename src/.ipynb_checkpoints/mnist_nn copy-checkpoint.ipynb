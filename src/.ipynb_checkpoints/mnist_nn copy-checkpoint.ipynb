{
 "cells": [
  {
   "cell_type": "code",
   "execution_count": 1,
   "metadata": {
    "tags": []
   },
   "outputs": [],
   "source": [
    "import numpy as np\n",
    "import pandas as pd\n",
    "from matplotlib import pyplot as plt\n",
    "from PIL import Image, ImageDraw\n",
    "import ipywidgets as widgets\n",
    "from IPython.display import display\n",
    "import ipydraw as idraw\n",
    "from io import BytesIO"
   ]
  },
  {
   "cell_type": "markdown",
   "metadata": {},
   "source": [
    "Import relevant libraries"
   ]
  },
  {
   "cell_type": "code",
   "execution_count": 2,
   "metadata": {},
   "outputs": [],
   "source": [
    "data = pd.read_csv('../data/train.csv')\n",
    "\n",
    "data = np.array(data)\n",
    "m, n = data.shape\n",
    "np.random.shuffle(data) # shuffle before splitting into dev and training sets"
   ]
  },
  {
   "cell_type": "markdown",
   "metadata": {},
   "source": [
    "Read dataset. Convert dataset in to numpy array. Then shuffle the data to ensure randomness for training"
   ]
  },
  {
   "cell_type": "code",
   "execution_count": 3,
   "metadata": {},
   "outputs": [],
   "source": [
    "data_dev = data[0:1000].T\n",
    "Y_dev = data_dev[0]\n",
    "X_dev = data_dev[1:n]\n",
    "X_dev = X_dev / 255.\n",
    "\n",
    "data_train = data[1000:m].T\n",
    "Y_train = data_train[0]\n",
    "X_train = data_train[1:n]\n",
    "X_train = X_train / 255. # feature normalization\n",
    "_,m_train = X_train.shape"
   ]
  },
  {
   "cell_type": "markdown",
   "metadata": {},
   "source": [
    "Hier teilen wir das Dataset in ein Entwicklungssatz und ein Trainingssatz auf. Die Daten werden auch transponiert, um der erwarteten Eingabeform des neuronalen Netzwerks zu entsprechen. (Features als Spalten und Beispiele als Zeilen) Schließlich werden die Pixelwerte durch Teilen durch 255 normalisiert, sodass sie zwischen 0 und 1 liegen. Diese Normalisierung ist für die Stabilität des Trainings und eine schnellere Konvergenz unerlässlich."
   ]
  },
  {
   "cell_type": "code",
   "execution_count": 4,
   "metadata": {},
   "outputs": [
    {
     "data": {
      "text/plain": [
       "array([5, 4, 5, ..., 7, 8, 0], dtype=int64)"
      ]
     },
     "execution_count": 4,
     "metadata": {},
     "output_type": "execute_result"
    }
   ],
   "source": [
    "Y_train"
   ]
  },
  {
   "cell_type": "code",
   "execution_count": 5,
   "metadata": {},
   "outputs": [],
   "source": [
    "def init_params():\n",
    "    W1 = np.random.rand(10, 784) - 0.5\n",
    "    b1 = np.random.rand(10, 1) - 0.5\n",
    "    W2 = np.random.rand(10, 10) - 0.5\n",
    "    b2 = np.random.rand(10, 1) - 0.5\n",
    "    return W1, b1, W2, b2"
   ]
  },
  {
   "cell_type": "markdown",
   "metadata": {},
   "source": [
    "Die Funktion initialisiert die Gewichte (W1, W2) und Verzerrungen (b1, b2) unseres neuronalen Netzwerks. Die Initialisierung ist wichtig, da sie den Startpunkt unserer Optimierung beeinflusst.\n",
    "W1 Form: 784 Eingabefeatures, 10 Neuronen in der ersten Schicht"
   ]
  },
  {
   "cell_type": "code",
   "execution_count": 6,
   "metadata": {},
   "outputs": [],
   "source": [
    "def ReLU(Z):\n",
    "    return np.maximum(Z, 0)\n",
    "\n",
    "def softmax(Z):\n",
    "    A = np.exp(Z) / sum(np.exp(Z))\n",
    "    return A"
   ]
  },
  {
   "cell_type": "markdown",
   "metadata": {},
   "source": [
    "Hier sehen wir zwei Aktivierungsfunktionen:\n",
    "\n",
    "    - ReLU (Rectified Linear Unit): Eine häufig verwendete Aktivierungsfunktion für versteckte Schichten. Sie ist rechenintensiv und hilft dabei, das Problem verschwindender Gradienten zu bewältigen.\n",
    "    - Softmax: Wird in der Ausgabeschicht für Probleme der Mehrklassenklassifikation verwendet. Sie wandelt rohe Ausgabewerte in Wahrscheinlichkeiten für jede Klasse um"
   ]
  },
  {
   "cell_type": "code",
   "execution_count": 7,
   "metadata": {},
   "outputs": [],
   "source": [
    "def forward_prop(W1, b1, W2, b2, X):\n",
    "    Z1 = W1.dot(X) + b1\n",
    "    A1 = ReLU(Z1)\n",
    "    Z2 = W2.dot(A1) + b2\n",
    "    A2 = softmax(Z2)\n",
    "    return Z1, A1, Z2, A2"
   ]
  },
  {
   "cell_type": "markdown",
   "metadata": {},
   "source": [
    "Diese Funktion berechnet die Vorwärtsdurchlauf des Netzwerks. Sie berechnet anhand der aktuellen Gewichte und Verzerrungen Zwischenwerte (Z1, A1, Z2) und die endgültige Ausgabe A2.\n",
    "\n",
    "Z1 = W1 (10, 784) * X (784, m) = (10, m) "
   ]
  },
  {
   "cell_type": "code",
   "execution_count": 8,
   "metadata": {},
   "outputs": [],
   "source": [
    "def ReLU_deriv(Z):\n",
    "    return Z > 0\n",
    "\n",
    "def one_hot(Y):\n",
    "    one_hot_Y = np.zeros((Y.size, Y.max() + 1))\n",
    "    one_hot_Y[np.arange(Y.size), Y] = 1\n",
    "    one_hot_Y = one_hot_Y.T\n",
    "    return one_hot_Y"
   ]
  },
  {
   "cell_type": "code",
   "execution_count": 9,
   "metadata": {},
   "outputs": [],
   "source": [
    "def backward_prop(Z1, A1, Z2, A2, W1, W2, X, Y, m):\n",
    "    one_hot_Y = one_hot(Y)\n",
    "    dZ2 = A2 - one_hot_Y\n",
    "    dW2 = 1 / m * dZ2.dot(A1.T)\n",
    "    db2 = 1 / m * np.sum(dZ2)\n",
    "    dZ1 = W2.T.dot(dZ2) * ReLU_deriv(Z1)\n",
    "    dW1 = 1 / m * dZ1.dot(X.T)\n",
    "    db1 = 1 / m * np.sum(dZ1)\n",
    "    return dW1, db1, dW2, db2"
   ]
  },
  {
   "cell_type": "markdown",
   "metadata": {},
   "source": [
    "Die Rückwärtspropagation berechnet, wie viel jedes Gewicht und jede Verzerrung zum Fehler beigetragen hat. Die zurückgegebenen Werte (dW1, db1, dW2, db2) stellen Gradienten dar, die die Richtung und Größe der zur Fehlerreduktion erforderlichen Änderungen anzeigen."
   ]
  },
  {
   "cell_type": "code",
   "execution_count": 10,
   "metadata": {},
   "outputs": [],
   "source": [
    "def update_params(W1, b1, W2, b2, dW1, db1, dW2, db2, alpha):\n",
    "    W1 = W1 - alpha * dW1\n",
    "    b1 = b1 - alpha * db1    \n",
    "    W2 = W2 - alpha * dW2  \n",
    "    b2 = b2 - alpha * db2    \n",
    "    return W1, b1, W2, b2"
   ]
  },
  {
   "cell_type": "markdown",
   "metadata": {},
   "source": [
    "Diese Funktion aktualisiert die Gewichte und Verzerrungen des Netzwerks in Richtung des negativen Gradienten. Dieser iterative Prozess hilft dem Netzwerk, aus seinen Fehlern zu lernen. 'alpha' ist die Lernrate, die die Schrittgröße jeder Aktualisierung bestimmt."
   ]
  },
  {
   "cell_type": "code",
   "execution_count": 11,
   "metadata": {},
   "outputs": [],
   "source": [
    "def get_predictions(A2):\n",
    "    return np.argmax(A2, 0)\n",
    "\n",
    "\n",
    "def get_accuracy(predictions, Y):\n",
    "    print(predictions, Y)\n",
    "    return np.sum(predictions == Y) / Y.size\n",
    "\n",
    "\n",
    "def gradient_descent(X, Y, alpha, iterations):\n",
    "    W1, b1, W2, b2 = init_params()\n",
    "    for i in range(iterations):\n",
    "        Z1, A1, Z2, A2 = forward_prop(W1, b1, W2, b2, X)\n",
    "        dW1, db1, dW2, db2 = backward_prop(Z1, A1, Z2, A2, W1, W2, X, Y, m_train)\n",
    "        W1, b1, W2, b2 = update_params(W1, b1, W2, b2, dW1, db1, dW2, db2, alpha)\n",
    "        if i % 10 == 0:\n",
    "            print(\"Iteration: \", i)\n",
    "            predictions = get_predictions(A2)\n",
    "            print(get_accuracy(predictions, Y))\n",
    "    return W1, b1, W2, b2"
   ]
  },
  {
   "cell_type": "markdown",
   "metadata": {},
   "source": [
    "Diese Funktion führt das Training unseres neuronalen Netzwerks durch. Es verwendet den Gradientenabstieg, um die Gewichte und Verzerrungen kontinuierlich zu aktualisieren. Am Ende des Trainings sollte unser Netzwerk besser auf die Daten abgestimmt sein und genauere Vorhersagen treffen können."
   ]
  },
  {
   "cell_type": "code",
   "execution_count": 12,
   "metadata": {},
   "outputs": [
    {
     "name": "stdout",
     "output_type": "stream",
     "text": [
      "Iteration:  0\n",
      "[1 6 6 ... 4 6 9] [5 4 5 ... 7 8 0]\n",
      "0.12151219512195122\n",
      "Iteration:  10\n",
      "[6 6 4 ... 6 6 8] [5 4 5 ... 7 8 0]\n",
      "0.1747560975609756\n",
      "Iteration:  20\n",
      "[6 7 4 ... 4 6 8] [5 4 5 ... 7 8 0]\n",
      "0.22646341463414635\n",
      "Iteration:  30\n",
      "[3 7 4 ... 7 6 4] [5 4 5 ... 7 8 0]\n",
      "0.2834390243902439\n",
      "Iteration:  40\n",
      "[6 7 7 ... 7 6 4] [5 4 5 ... 7 8 0]\n",
      "0.33295121951219514\n",
      "Iteration:  50\n",
      "[6 7 7 ... 7 7 4] [5 4 5 ... 7 8 0]\n",
      "0.38390243902439025\n",
      "Iteration:  60\n",
      "[6 7 7 ... 7 7 8] [5 4 5 ... 7 8 0]\n",
      "0.42748780487804877\n",
      "Iteration:  70\n",
      "[6 1 2 ... 7 6 8] [5 4 5 ... 7 8 0]\n",
      "0.46880487804878046\n",
      "Iteration:  80\n",
      "[6 1 2 ... 7 6 8] [5 4 5 ... 7 8 0]\n",
      "0.5055121951219512\n",
      "Iteration:  90\n",
      "[6 1 2 ... 7 6 8] [5 4 5 ... 7 8 0]\n",
      "0.5400487804878049\n",
      "Iteration:  100\n",
      "[6 1 2 ... 7 6 8] [5 4 5 ... 7 8 0]\n",
      "0.573\n",
      "Iteration:  110\n",
      "[0 1 2 ... 7 5 8] [5 4 5 ... 7 8 0]\n",
      "0.5995853658536585\n",
      "Iteration:  120\n",
      "[0 7 2 ... 7 5 0] [5 4 5 ... 7 8 0]\n",
      "0.6260487804878049\n",
      "Iteration:  130\n",
      "[0 7 2 ... 7 5 0] [5 4 5 ... 7 8 0]\n",
      "0.6453414634146342\n",
      "Iteration:  140\n",
      "[0 7 2 ... 7 5 0] [5 4 5 ... 7 8 0]\n",
      "0.6609268292682927\n",
      "Iteration:  150\n",
      "[0 7 2 ... 7 5 0] [5 4 5 ... 7 8 0]\n",
      "0.676\n",
      "Iteration:  160\n",
      "[0 7 2 ... 7 5 0] [5 4 5 ... 7 8 0]\n",
      "0.6905853658536585\n",
      "Iteration:  170\n",
      "[0 7 2 ... 7 8 0] [5 4 5 ... 7 8 0]\n",
      "0.7039024390243902\n",
      "Iteration:  180\n",
      "[0 7 2 ... 7 8 0] [5 4 5 ... 7 8 0]\n",
      "0.7157560975609756\n",
      "Iteration:  190\n",
      "[0 7 2 ... 7 8 0] [5 4 5 ... 7 8 0]\n",
      "0.7253658536585366\n",
      "Iteration:  200\n",
      "[0 7 2 ... 7 8 0] [5 4 5 ... 7 8 0]\n",
      "0.735390243902439\n",
      "Iteration:  210\n",
      "[0 7 2 ... 7 8 0] [5 4 5 ... 7 8 0]\n",
      "0.7450731707317073\n",
      "Iteration:  220\n",
      "[3 7 6 ... 7 8 0] [5 4 5 ... 7 8 0]\n",
      "0.7530975609756098\n",
      "Iteration:  230\n",
      "[3 7 6 ... 7 8 0] [5 4 5 ... 7 8 0]\n",
      "0.7605609756097561\n",
      "Iteration:  240\n",
      "[3 7 0 ... 7 8 0] [5 4 5 ... 7 8 0]\n",
      "0.7673170731707317\n",
      "Iteration:  250\n",
      "[3 7 0 ... 7 8 0] [5 4 5 ... 7 8 0]\n",
      "0.7743170731707317\n",
      "Iteration:  260\n",
      "[3 7 0 ... 7 8 0] [5 4 5 ... 7 8 0]\n",
      "0.7810487804878049\n",
      "Iteration:  270\n",
      "[3 7 0 ... 7 8 0] [5 4 5 ... 7 8 0]\n",
      "0.7861707317073171\n",
      "Iteration:  280\n",
      "[3 7 0 ... 7 8 0] [5 4 5 ... 7 8 0]\n",
      "0.7913414634146342\n",
      "Iteration:  290\n",
      "[3 7 0 ... 7 8 0] [5 4 5 ... 7 8 0]\n",
      "0.7959268292682927\n",
      "Iteration:  300\n",
      "[3 7 0 ... 7 8 0] [5 4 5 ... 7 8 0]\n",
      "0.800439024390244\n",
      "Iteration:  310\n",
      "[3 7 0 ... 7 8 0] [5 4 5 ... 7 8 0]\n",
      "0.8045121951219513\n",
      "Iteration:  320\n",
      "[3 7 0 ... 7 8 0] [5 4 5 ... 7 8 0]\n",
      "0.8078048780487805\n",
      "Iteration:  330\n",
      "[3 7 0 ... 7 8 0] [5 4 5 ... 7 8 0]\n",
      "0.8112682926829269\n",
      "Iteration:  340\n",
      "[5 7 0 ... 7 8 0] [5 4 5 ... 7 8 0]\n",
      "0.8144634146341463\n",
      "Iteration:  350\n",
      "[5 7 0 ... 7 8 0] [5 4 5 ... 7 8 0]\n",
      "0.8176341463414634\n",
      "Iteration:  360\n",
      "[5 7 0 ... 7 8 0] [5 4 5 ... 7 8 0]\n",
      "0.8211219512195121\n",
      "Iteration:  370\n",
      "[5 7 0 ... 7 8 0] [5 4 5 ... 7 8 0]\n",
      "0.8240243902439024\n",
      "Iteration:  380\n",
      "[5 7 0 ... 7 8 0] [5 4 5 ... 7 8 0]\n",
      "0.8263658536585365\n",
      "Iteration:  390\n",
      "[5 7 0 ... 7 8 0] [5 4 5 ... 7 8 0]\n",
      "0.828780487804878\n",
      "Iteration:  400\n",
      "[5 7 0 ... 7 8 0] [5 4 5 ... 7 8 0]\n",
      "0.8311463414634146\n",
      "Iteration:  410\n",
      "[5 7 0 ... 7 8 0] [5 4 5 ... 7 8 0]\n",
      "0.8334634146341463\n",
      "Iteration:  420\n",
      "[5 7 0 ... 7 8 0] [5 4 5 ... 7 8 0]\n",
      "0.8357560975609756\n",
      "Iteration:  430\n",
      "[5 7 0 ... 7 8 0] [5 4 5 ... 7 8 0]\n",
      "0.8376585365853658\n",
      "Iteration:  440\n",
      "[5 7 0 ... 7 8 0] [5 4 5 ... 7 8 0]\n",
      "0.8397073170731707\n",
      "Iteration:  450\n",
      "[5 7 0 ... 7 8 0] [5 4 5 ... 7 8 0]\n",
      "0.8415121951219512\n",
      "Iteration:  460\n",
      "[5 7 0 ... 7 8 0] [5 4 5 ... 7 8 0]\n",
      "0.8431463414634146\n",
      "Iteration:  470\n",
      "[5 7 0 ... 7 8 0] [5 4 5 ... 7 8 0]\n",
      "0.8446341463414634\n",
      "Iteration:  480\n",
      "[5 7 0 ... 7 8 0] [5 4 5 ... 7 8 0]\n",
      "0.8462926829268292\n",
      "Iteration:  490\n",
      "[5 7 0 ... 7 8 0] [5 4 5 ... 7 8 0]\n",
      "0.8479024390243902\n"
     ]
    }
   ],
   "source": [
    "W1, b1, W2, b2 = gradient_descent(X_train, Y_train, 0.10, 500)"
   ]
  },
  {
   "cell_type": "code",
   "execution_count": 13,
   "metadata": {},
   "outputs": [],
   "source": [
    "def make_predictions(X, W1, b1, W2, b2):\n",
    "    _, _, _, A2 = forward_prop(W1, b1, W2, b2, X)\n",
    "    predictions = get_predictions(A2)\n",
    "    return predictions\n",
    "\n",
    "def test_prediction(index, W1, b1, W2, b2):\n",
    "    current_image = X_train[:, index, None]\n",
    "    prediction = make_predictions(X_train[:, index, None], W1, b1, W2, b2)\n",
    "    label = Y_train[index]\n",
    "    print(\"Prediction: \", prediction)\n",
    "    print(\"Label: \", label)\n",
    "    \n",
    "    current_image = current_image.reshape((28, 28)) * 255\n",
    "    plt.gray()\n",
    "    plt.imshow(current_image, interpolation='nearest')\n",
    "    plt.show()"
   ]
  },
  {
   "cell_type": "code",
   "execution_count": 14,
   "metadata": {},
   "outputs": [
    {
     "name": "stdout",
     "output_type": "stream",
     "text": [
      "Prediction:  [5]\n",
      "Label:  5\n"
     ]
    },
    {
     "data": {
      "image/png": "[encoded data removed]",
      "text/plain": [
       "<Figure size 640x480 with 1 Axes>"
      ]
     },
     "metadata": {},
     "output_type": "display_data"
    },
    {
     "name": "stdout",
     "output_type": "stream",
     "text": [
      "Prediction:  [7]\n",
      "Label:  4\n"
     ]
    },
    {
     "data": {
      "image/png": "[encoded data removed]",
      "text/plain": [
       "<Figure size 640x480 with 1 Axes>"
      ]
     },
     "metadata": {},
     "output_type": "display_data"
    },
    {
     "name": "stdout",
     "output_type": "stream",
     "text": [
      "Prediction:  [0]\n",
      "Label:  5\n"
     ]
    },
    {
     "data": {
      "image/png": "[encoded data removed]",
      "text/plain": [
       "<Figure size 640x480 with 1 Axes>"
      ]
     },
     "metadata": {},
     "output_type": "display_data"
    },
    {
     "name": "stdout",
     "output_type": "stream",
     "text": [
      "Prediction:  [1]\n",
      "Label:  1\n"
     ]
    },
    {
     "data": {
      "image/png": "[encoded data removed]",
      "text/plain": [
       "<Figure size 640x480 with 1 Axes>"
      ]
     },
     "metadata": {},
     "output_type": "display_data"
    }
   ],
   "source": [
    "test_prediction(0, W1, b1, W2, b2)\n",
    "test_prediction(1, W1, b1, W2, b2)\n",
    "test_prediction(2, W1, b1, W2, b2)\n",
    "test_prediction(3, W1, b1, W2, b2)"
   ]
  },
  {
   "cell_type": "code",
   "execution_count": 15,
   "metadata": {},
   "outputs": [
    {
     "name": "stdout",
     "output_type": "stream",
     "text": [
      "[3 0 3 0 4 4 7 0 4 6 0 1 0 6 1 7 0 4 0 8 6 5 7 4 7 7 9 9 4 6 4 5 6 2 0 6 0\n",
      " 7 2 1 5 0 8 0 2 9 4 7 5 3 4 2 5 5 8 7 0 1 0 2 2 7 3 3 8 9 3 0 8 3 3 1 4 0\n",
      " 3 4 7 1 4 7 0 3 5 2 2 0 7 9 1 2 1 3 6 8 1 0 5 8 3 3 8 9 5 9 2 0 3 6 4 1 3\n",
      " 3 0 1 9 1 1 1 6 5 1 5 0 9 0 4 7 1 1 4 1 8 7 5 8 3 5 4 2 8 1 5 9 2 3 0 9 4\n",
      " 7 3 1 5 4 3 8 8 6 0 8 6 6 5 9 7 3 0 1 9 3 7 1 5 0 1 9 0 1 9 9 8 5 0 8 6 7\n",
      " 5 4 2 3 2 9 1 9 5 5 6 0 6 9 1 5 5 6 5 4 0 0 0 7 1 6 8 3 4 3 1 3 2 9 2 6 9\n",
      " 9 3 0 6 6 0 9 3 4 8 9 1 7 6 9 5 6 7 5 9 6 0 3 3 9 3 7 4 1 0 5 3 7 8 7 1 8\n",
      " 2 6 3 7 0 8 6 3 6 5 8 9 4 9 2 4 1 9 5 3 1 5 3 5 4 3 5 4 3 5 6 3 1 3 8 8 3\n",
      " 1 2 1 7 6 1 6 6 8 0 6 1 9 8 2 7 9 1 5 3 8 5 4 3 9 3 4 3 0 4 3 8 0 1 4 1 1\n",
      " 9 4 7 1 5 8 7 0 8 1 3 2 3 6 5 7 0 8 2 3 4 2 5 5 4 2 8 2 7 4 8 6 6 7 4 4 3\n",
      " 6 8 7 9 2 9 1 0 1 6 0 2 5 5 9 2 6 1 0 6 1 0 2 6 6 7 0 8 8 4 2 7 0 3 1 8 7\n",
      " 2 7 9 0 9 5 1 1 7 4 4 3 0 0 0 9 3 4 7 2 5 4 7 2 1 3 1 0 8 2 9 8 4 7 6 8 7\n",
      " 7 4 7 2 7 4 9 2 1 6 5 3 2 4 0 9 2 8 9 4 2 7 0 7 4 2 4 1 9 3 2 1 2 7 9 4 1\n",
      " 2 8 9 9 4 0 2 9 8 6 9 9 2 0 3 9 9 5 9 2 5 4 6 9 6 9 7 1 6 8 8 6 8 1 2 3 2\n",
      " 8 6 9 1 3 6 0 0 3 4 4 4 3 0 1 8 2 8 1 8 4 4 2 3 6 2 4 0 4 6 1 9 0 0 3 5 1\n",
      " 9 6 6 6 6 6 6 8 4 7 5 1 5 9 7 6 4 3 3 0 4 0 5 0 2 1 5 9 1 4 8 8 7 4 1 3 9\n",
      " 8 8 4 8 6 9 8 2 0 0 3 2 0 6 0 8 4 8 2 5 2 9 8 5 9 9 9 1 8 3 5 2 8 8 4 6 7\n",
      " 3 0 4 8 5 0 3 0 9 3 8 5 1 5 2 8 8 1 1 4 9 3 4 3 3 2 4 4 1 1 6 0 7 3 4 1 7\n",
      " 1 4 9 7 5 9 8 7 1 4 9 8 1 6 8 5 9 6 6 1 9 4 0 1 8 9 1 1 9 1 1 2 3 0 7 8 4\n",
      " 5 1 2 9 8 9 4 6 8 5 6 6 5 1 1 6 3 9 8 7 5 3 5 2 2 1 3 2 6 7 0 1 3 2 1 3 9\n",
      " 1 2 1 9 8 4 2 1 2 1 2 8 1 3 8 7 9 6 2 0 4 4 3 7 4 7 1 4 2 7 5 1 3 0 6 3 6\n",
      " 8 6 5 8 1 2 7 5 1 9 6 6 7 0 6 6 8 4 3 4 4 1 4 8 8 9 2 3 6 5 6 7 4 3 0 8 9\n",
      " 9 5 3 1 3 5 5 6 4 0 5 1 3 7 5 4 2 2 0 6 3 7 1 5 1 2 5 7 9 8 7 3 1 8 2 4 5\n",
      " 3 6 0 8 7 9 1 6 8 0 1 9 6 8 1 2 8 4 2 5 9 4 3 4 5 5 9 3 0 7 7 1 9 7 0 1 6\n",
      " 1 1 4 3 0 7 3 5 8 8 7 2 3 6 2 1 1 5 2 3 5 6 4 6 4 8 5 6 6 0 9 5 7 2 7 2 9\n",
      " 0 1 8 2 0 3 8 8 2 4 0 6 7 1 0 1 6 2 9 1 7 2 2 1 1 1 8 5 0 8 8 8 9 4 0 7 7\n",
      " 4 0 7 3 1 6 8 0 3 8 8 5 3 7 9 0 8 6 4 7 4 9 4 8 1 7 8 0 7 7 8 6 1 3 2 5 2\n",
      " 8] [2 6 3 0 4 9 7 5 4 6 0 1 0 6 1 7 2 4 0 8 6 5 7 4 9 7 9 9 4 6 4 5 6 2 0 6 0\n",
      " 7 3 1 5 0 1 6 2 9 4 7 5 5 4 2 5 5 5 7 0 1 0 2 2 7 3 3 8 9 5 0 8 3 3 1 4 0\n",
      " 3 4 7 1 4 9 0 3 5 2 2 0 7 9 1 2 1 3 6 8 1 0 5 8 3 3 8 9 5 9 2 0 5 6 4 1 5\n",
      " 3 0 1 9 1 8 1 6 5 1 5 0 4 0 4 7 4 1 4 1 8 7 5 8 3 5 4 2 8 1 5 7 2 3 0 5 4\n",
      " 7 3 1 5 2 3 0 8 6 3 8 6 6 5 7 7 3 0 1 9 3 7 1 5 0 1 9 0 1 9 9 8 5 0 8 6 7\n",
      " 5 4 2 8 2 9 1 9 5 8 6 0 6 9 1 5 5 6 5 4 0 0 0 7 1 6 8 3 4 3 1 3 2 9 2 6 9\n",
      " 9 3 0 6 6 0 8 3 5 2 9 1 7 6 9 5 6 7 0 9 8 0 3 3 9 2 7 4 1 0 5 3 7 8 7 3 2\n",
      " 2 6 3 7 0 3 6 3 8 5 8 9 5 9 2 4 1 9 5 5 1 5 3 5 4 3 5 4 3 5 6 3 1 3 3 8 3\n",
      " 8 4 1 7 6 1 6 6 8 0 6 1 9 8 2 7 8 1 5 3 8 5 4 5 9 3 2 3 0 4 3 1 0 1 9 1 1\n",
      " 7 4 9 1 5 8 7 0 8 8 5 2 3 6 5 7 0 8 2 3 4 2 3 0 4 2 8 2 7 4 8 6 6 7 9 4 3\n",
      " 6 8 7 9 2 9 1 0 9 6 0 2 5 5 9 2 6 1 0 6 1 0 2 6 6 7 7 8 8 6 4 7 0 5 1 8 7\n",
      " 2 7 9 0 9 5 1 1 7 4 4 2 0 0 0 9 3 4 7 2 5 4 7 7 1 3 1 0 8 2 9 3 4 7 6 8 7\n",
      " 7 4 9 9 7 4 5 6 1 6 5 8 2 4 7 4 2 8 9 9 7 7 0 7 4 2 4 1 9 3 2 1 6 7 4 1 1\n",
      " 2 8 9 9 4 0 2 9 4 6 9 9 2 0 3 9 0 5 9 0 5 6 6 9 5 9 9 1 6 8 8 6 8 1 2 3 2\n",
      " 8 6 0 1 3 6 0 0 3 4 4 9 3 0 1 3 2 8 1 8 4 9 2 3 6 2 6 0 4 6 1 9 0 0 3 5 1\n",
      " 9 6 6 6 6 6 6 8 9 7 7 1 5 9 7 0 4 3 3 0 2 0 5 0 2 1 3 9 1 4 8 8 7 4 1 3 9\n",
      " 5 8 4 5 6 9 8 2 0 0 3 2 0 6 0 8 4 5 2 3 2 9 8 5 9 9 4 1 2 3 1 2 8 8 4 6 7\n",
      " 3 0 4 8 5 8 3 3 9 3 8 5 1 5 2 8 8 1 1 4 9 3 4 3 3 2 4 4 1 1 6 0 7 8 4 1 7\n",
      " 1 9 9 7 3 9 8 7 1 9 1 8 1 6 8 3 9 6 6 1 9 4 0 1 8 4 1 1 9 1 1 2 1 0 4 8 4\n",
      " 5 1 7 9 8 5 9 6 8 5 6 6 5 1 1 6 5 9 8 7 5 3 5 2 2 1 3 2 6 7 0 1 2 5 1 3 4\n",
      " 1 2 1 9 8 4 6 1 2 1 2 9 3 5 8 7 9 6 2 0 4 4 3 7 4 7 1 4 2 9 5 8 3 0 6 5 6\n",
      " 8 6 5 1 1 2 7 5 1 9 6 6 7 0 6 6 8 4 3 4 4 1 4 8 8 9 2 3 6 5 6 7 4 3 0 8 9\n",
      " 9 5 3 1 8 5 5 6 2 0 5 1 3 7 5 4 2 2 0 6 3 7 1 5 1 2 5 7 9 8 7 3 1 1 2 2 0\n",
      " 3 4 0 8 7 9 1 6 8 0 1 9 6 8 1 2 8 4 2 5 9 8 3 4 6 5 9 3 0 7 7 8 9 7 7 1 6\n",
      " 1 1 4 3 2 7 3 5 8 8 7 2 3 2 2 1 1 8 2 3 1 6 4 6 4 8 8 6 6 0 4 3 7 2 3 2 9\n",
      " 0 1 8 2 0 3 8 8 2 4 0 6 7 1 5 8 6 2 3 1 7 2 2 1 1 1 8 5 0 8 8 4 7 4 0 7 7\n",
      " 4 0 7 5 1 6 8 0 8 8 8 5 3 7 4 3 8 6 4 7 5 4 4 8 1 7 8 0 7 7 8 6 1 3 2 5 2\n",
      " 8]\n"
     ]
    },
    {
     "data": {
      "text/plain": [
       "0.849"
      ]
     },
     "execution_count": 15,
     "metadata": {},
     "output_type": "execute_result"
    }
   ],
   "source": [
    "dev_predictions = make_predictions(X_dev, W1, b1, W2, b2)\n",
    "get_accuracy(dev_predictions, Y_dev)"
   ]
  },
  {
   "cell_type": "code",
   "execution_count": 16,
   "metadata": {},
   "outputs": [],
   "source": [
    "canvas = idraw.Canvas(width=280, height=280)\n",
    "\n",
    "btn_clear = widgets.Button(description='Clear')\n",
    "btn_check = widgets.Button(description='Check digit')"
   ]
  },
  {
   "cell_type": "code",
   "execution_count": 17,
   "metadata": {},
   "outputs": [],
   "source": [
    "img = Image.new('RGB', (280, 280), 'white')\n",
    "draw = ImageDraw.Draw(img)\n",
    "\n",
    "last_point = (0, 0)"
   ]
  },
  {
   "cell_type": "code",
   "execution_count": 24,
   "metadata": {},
   "outputs": [],
   "source": [
    "# def handle_mouse_move(x, y):\n",
    "#     global last_point\n",
    "#     print(f\"Mouse moved to ({x}, {y})\")  # Debug line\n",
    "#     draw.line([last_point, (x, y)], fill='black', width=10)\n",
    "#     last_point = (x, y)\n",
    "#     update_canvas()\n",
    "\n",
    "# def handle_mouse_down(x, y):\n",
    "#     global last_point\n",
    "#     last_point = (x, y)"
   ]
  },
  {
   "cell_type": "code",
   "execution_count": 25,
   "metadata": {},
   "outputs": [],
   "source": [
    "# def update_canvas():\n",
    "#     # Convert PIL image to bytes and set it as the canvas value\n",
    "#     canvas.value = img_to_byte_array(img)\n",
    "\n",
    "# def img_to_byte_array(img):\n",
    "#     \"\"\"Convert PIL image to byte array.\"\"\"\n",
    "#     img_byte_array = bytearray()\n",
    "#     with BytesIO() as output:\n",
    "#         img.save(output, format='PNG')\n",
    "#         img_byte_array = output.getvalue()\n",
    "#     return img_byte_array\n",
    "\n",
    "def clear_canvas(button):\n",
    "    canvas.clear()"
   ]
  },
  {
   "cell_type": "code",
   "execution_count": 26,
   "metadata": {},
   "outputs": [],
   "source": [
    "def check_digit(button):\n",
    "    # # Convert the image to the appropriate size (28x28) for the neural network\n",
    "    # small_img = img.resize((28, 28)).convert('L')  # Convert to grayscale\n",
    "    # input_array = np.array(small_img).reshape(784, 1) / 255.  # Normalize\n",
    "    # # Now you can use the input_array with your neural network for prediction.\n",
    "    # # e.g., prediction = your_nn_function(input_array)\n",
    "    # # For now, we'll just display the resized image to confirm it works\n",
    "    # display(small_img)\n",
    "    display(canvas.image_data)\n"
   ]
  },
  {
   "cell_type": "code",
   "execution_count": 27,
   "metadata": {
    "tags": []
   },
   "outputs": [
    {
     "data": {
      "application/vnd.jupyter.widget-view+json": {
       "model_id": "6c5ba797985945efa65ab111c4284dc1",
       "version_major": 2,
       "version_minor": 0
      },
      "text/plain": [
       "VBox(children=(Image(value=b'\\x89PNG\\r\\n\\x1a\\n\\x00\\x00\\x00\\rIHDR\\x00\\x00\\x01\\x18\\x00\\x00\\x01\\x18\\x08\\x02\\x00\\x…"
      ]
     },
     "metadata": {},
     "output_type": "display_data"
    }
   ],
   "source": [
    "# canvas.on_msg(handle_mouse_move, 'mouse_move')\n",
    "# canvas.on_msg(handle_mouse_down, 'mouse_down')\n",
    "btn_clear.on_click(clear_canvas)\n",
    "btn_check.on_click(check_digit)\n",
    "\n",
    "display(widgets.VBox([canvas, widgets.HBox([btn_clear, btn_check])]))"
   ]
  }
 ],
 "metadata": {
  "kernelspec": {
   "display_name": "MNIST Environment",
   "language": "python",
   "name": "mnist"
  },
  "language_info": {
   "codemirror_mode": {
    "name": "ipython",
    "version": 3
   },
   "file_extension": ".py",
   "mimetype": "text/x-python",
   "name": "python",
   "nbconvert_exporter": "python",
   "pygments_lexer": "ipython3",
   "version": "3.11.5"
  },
  "toc-showmarkdowntxt": false,
  "toc-showtags": false
 },
 "nbformat": 4,
 "nbformat_minor": 4
}
